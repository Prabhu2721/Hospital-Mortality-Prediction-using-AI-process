{
 "cells": [
  {
   "cell_type": "markdown",
   "id": "00afd198",
   "metadata": {},
   "source": [
    "### SUPPORT VECTOR MACHINE"
   ]
  },
  {
   "cell_type": "code",
   "execution_count": 1,
   "id": "9b329445",
   "metadata": {},
   "outputs": [],
   "source": [
    "# IMPORT LIBRARY PACKAGES\n",
    "import pandas as pd"
   ]
  },
  {
   "cell_type": "code",
   "execution_count": 2,
   "id": "00d317ea",
   "metadata": {},
   "outputs": [],
   "source": [
    "import warnings\n",
    "warnings.filterwarnings('ignore')"
   ]
  },
  {
   "cell_type": "code",
   "execution_count": 3,
   "id": "75b00320",
   "metadata": {},
   "outputs": [],
   "source": [
    "# LOAD GIVEN DATASET\n",
    "data=pd.read_csv('hospital.csv')"
   ]
  },
  {
   "cell_type": "code",
   "execution_count": 4,
   "id": "67cd4cda",
   "metadata": {},
   "outputs": [],
   "source": [
    "df=data.dropna()"
   ]
  },
  {
   "cell_type": "code",
   "execution_count": 5,
   "id": "c9fdd15e",
   "metadata": {},
   "outputs": [
    {
     "data": {
      "text/plain": [
       "Index(['outcome', 'age', 'BMI', 'heart rate', 'Systolic blood pressure',\n",
       "       'Diastolic blood pressure', 'Respiratory rate', 'temperature', 'SP O2',\n",
       "       'Urine output', 'glucose', 'PH'],\n",
       "      dtype='object')"
      ]
     },
     "execution_count": 5,
     "metadata": {},
     "output_type": "execute_result"
    }
   ],
   "source": [
    "df.columns"
   ]
  },
  {
   "cell_type": "code",
   "execution_count": 6,
   "id": "7dafc4b2",
   "metadata": {},
   "outputs": [
    {
     "data": {
      "text/html": [
       "<div>\n",
       "<style scoped>\n",
       "    .dataframe tbody tr th:only-of-type {\n",
       "        vertical-align: middle;\n",
       "    }\n",
       "\n",
       "    .dataframe tbody tr th {\n",
       "        vertical-align: top;\n",
       "    }\n",
       "\n",
       "    .dataframe thead th {\n",
       "        text-align: right;\n",
       "    }\n",
       "</style>\n",
       "<table border=\"1\" class=\"dataframe\">\n",
       "  <thead>\n",
       "    <tr style=\"text-align: right;\">\n",
       "      <th></th>\n",
       "      <th>outcome</th>\n",
       "      <th>age</th>\n",
       "      <th>BMI</th>\n",
       "      <th>heart rate</th>\n",
       "      <th>Systolic blood pressure</th>\n",
       "      <th>Diastolic blood pressure</th>\n",
       "      <th>Respiratory rate</th>\n",
       "      <th>temperature</th>\n",
       "      <th>SP O2</th>\n",
       "      <th>Urine output</th>\n",
       "      <th>glucose</th>\n",
       "      <th>PH</th>\n",
       "    </tr>\n",
       "  </thead>\n",
       "  <tbody>\n",
       "    <tr>\n",
       "      <th>0</th>\n",
       "      <td>0.0</td>\n",
       "      <td>72</td>\n",
       "      <td>37.588179</td>\n",
       "      <td>68.837838</td>\n",
       "      <td>155.866667</td>\n",
       "      <td>68.333333</td>\n",
       "      <td>16.621622</td>\n",
       "      <td>36.714286</td>\n",
       "      <td>98.394737</td>\n",
       "      <td>2155.0</td>\n",
       "      <td>114.636364</td>\n",
       "      <td>7.230</td>\n",
       "    </tr>\n",
       "    <tr>\n",
       "      <th>2</th>\n",
       "      <td>0.0</td>\n",
       "      <td>83</td>\n",
       "      <td>26.572634</td>\n",
       "      <td>72.318182</td>\n",
       "      <td>135.333333</td>\n",
       "      <td>61.375000</td>\n",
       "      <td>23.640000</td>\n",
       "      <td>36.453704</td>\n",
       "      <td>95.291667</td>\n",
       "      <td>2425.0</td>\n",
       "      <td>149.000000</td>\n",
       "      <td>7.268</td>\n",
       "    </tr>\n",
       "    <tr>\n",
       "      <th>3</th>\n",
       "      <td>0.0</td>\n",
       "      <td>43</td>\n",
       "      <td>83.264629</td>\n",
       "      <td>94.500000</td>\n",
       "      <td>126.400000</td>\n",
       "      <td>73.200000</td>\n",
       "      <td>21.857143</td>\n",
       "      <td>36.287037</td>\n",
       "      <td>93.846154</td>\n",
       "      <td>8760.0</td>\n",
       "      <td>128.250000</td>\n",
       "      <td>7.370</td>\n",
       "    </tr>\n",
       "    <tr>\n",
       "      <th>4</th>\n",
       "      <td>0.0</td>\n",
       "      <td>75</td>\n",
       "      <td>31.824842</td>\n",
       "      <td>67.920000</td>\n",
       "      <td>156.560000</td>\n",
       "      <td>58.120000</td>\n",
       "      <td>21.360000</td>\n",
       "      <td>36.761905</td>\n",
       "      <td>99.280000</td>\n",
       "      <td>4455.0</td>\n",
       "      <td>145.750000</td>\n",
       "      <td>7.250</td>\n",
       "    </tr>\n",
       "    <tr>\n",
       "      <th>5</th>\n",
       "      <td>0.0</td>\n",
       "      <td>76</td>\n",
       "      <td>24.262293</td>\n",
       "      <td>74.181818</td>\n",
       "      <td>118.100000</td>\n",
       "      <td>52.950000</td>\n",
       "      <td>20.545455</td>\n",
       "      <td>35.266667</td>\n",
       "      <td>96.818182</td>\n",
       "      <td>1840.0</td>\n",
       "      <td>98.333333</td>\n",
       "      <td>7.310</td>\n",
       "    </tr>\n",
       "  </tbody>\n",
       "</table>\n",
       "</div>"
      ],
      "text/plain": [
       "   outcome  age        BMI  heart rate  Systolic blood pressure  \\\n",
       "0      0.0   72  37.588179   68.837838               155.866667   \n",
       "2      0.0   83  26.572634   72.318182               135.333333   \n",
       "3      0.0   43  83.264629   94.500000               126.400000   \n",
       "4      0.0   75  31.824842   67.920000               156.560000   \n",
       "5      0.0   76  24.262293   74.181818               118.100000   \n",
       "\n",
       "   Diastolic blood pressure  Respiratory rate  temperature      SP O2  \\\n",
       "0                 68.333333         16.621622    36.714286  98.394737   \n",
       "2                 61.375000         23.640000    36.453704  95.291667   \n",
       "3                 73.200000         21.857143    36.287037  93.846154   \n",
       "4                 58.120000         21.360000    36.761905  99.280000   \n",
       "5                 52.950000         20.545455    35.266667  96.818182   \n",
       "\n",
       "   Urine output     glucose     PH  \n",
       "0        2155.0  114.636364  7.230  \n",
       "2        2425.0  149.000000  7.268  \n",
       "3        8760.0  128.250000  7.370  \n",
       "4        4455.0  145.750000  7.250  \n",
       "5        1840.0   98.333333  7.310  "
      ]
     },
     "execution_count": 6,
     "metadata": {},
     "output_type": "execute_result"
    }
   ],
   "source": [
    "df.head()"
   ]
  },
  {
   "cell_type": "code",
   "execution_count": 7,
   "id": "68cb5695",
   "metadata": {},
   "outputs": [],
   "source": [
    "df=df.rename({'heart rate':'heart_rate','Systolic blood pressure':'Systolic_blood_pressure',\n",
    "              'Diastolic blood pressure':'Diastolic_blood_pressure','Respiratory rate':'Respiratory_rate',\n",
    "              'SP O2':'SP_O2','Urine output':'Urine_output'},axis=1)"
   ]
  },
  {
   "cell_type": "code",
   "execution_count": 8,
   "id": "4f757b99",
   "metadata": {},
   "outputs": [
    {
     "data": {
      "text/html": [
       "<div>\n",
       "<style scoped>\n",
       "    .dataframe tbody tr th:only-of-type {\n",
       "        vertical-align: middle;\n",
       "    }\n",
       "\n",
       "    .dataframe tbody tr th {\n",
       "        vertical-align: top;\n",
       "    }\n",
       "\n",
       "    .dataframe thead th {\n",
       "        text-align: right;\n",
       "    }\n",
       "</style>\n",
       "<table border=\"1\" class=\"dataframe\">\n",
       "  <thead>\n",
       "    <tr style=\"text-align: right;\">\n",
       "      <th></th>\n",
       "      <th>outcome</th>\n",
       "      <th>age</th>\n",
       "      <th>BMI</th>\n",
       "      <th>heart_rate</th>\n",
       "      <th>Systolic_blood_pressure</th>\n",
       "      <th>Diastolic_blood_pressure</th>\n",
       "      <th>Respiratory_rate</th>\n",
       "      <th>temperature</th>\n",
       "      <th>SP_O2</th>\n",
       "      <th>Urine_output</th>\n",
       "      <th>glucose</th>\n",
       "      <th>PH</th>\n",
       "    </tr>\n",
       "  </thead>\n",
       "  <tbody>\n",
       "    <tr>\n",
       "      <th>0</th>\n",
       "      <td>0.0</td>\n",
       "      <td>72</td>\n",
       "      <td>37.588179</td>\n",
       "      <td>68.837838</td>\n",
       "      <td>155.866667</td>\n",
       "      <td>68.333333</td>\n",
       "      <td>16.621622</td>\n",
       "      <td>36.714286</td>\n",
       "      <td>98.394737</td>\n",
       "      <td>2155.0</td>\n",
       "      <td>114.636364</td>\n",
       "      <td>7.230</td>\n",
       "    </tr>\n",
       "    <tr>\n",
       "      <th>2</th>\n",
       "      <td>0.0</td>\n",
       "      <td>83</td>\n",
       "      <td>26.572634</td>\n",
       "      <td>72.318182</td>\n",
       "      <td>135.333333</td>\n",
       "      <td>61.375000</td>\n",
       "      <td>23.640000</td>\n",
       "      <td>36.453704</td>\n",
       "      <td>95.291667</td>\n",
       "      <td>2425.0</td>\n",
       "      <td>149.000000</td>\n",
       "      <td>7.268</td>\n",
       "    </tr>\n",
       "    <tr>\n",
       "      <th>3</th>\n",
       "      <td>0.0</td>\n",
       "      <td>43</td>\n",
       "      <td>83.264629</td>\n",
       "      <td>94.500000</td>\n",
       "      <td>126.400000</td>\n",
       "      <td>73.200000</td>\n",
       "      <td>21.857143</td>\n",
       "      <td>36.287037</td>\n",
       "      <td>93.846154</td>\n",
       "      <td>8760.0</td>\n",
       "      <td>128.250000</td>\n",
       "      <td>7.370</td>\n",
       "    </tr>\n",
       "    <tr>\n",
       "      <th>4</th>\n",
       "      <td>0.0</td>\n",
       "      <td>75</td>\n",
       "      <td>31.824842</td>\n",
       "      <td>67.920000</td>\n",
       "      <td>156.560000</td>\n",
       "      <td>58.120000</td>\n",
       "      <td>21.360000</td>\n",
       "      <td>36.761905</td>\n",
       "      <td>99.280000</td>\n",
       "      <td>4455.0</td>\n",
       "      <td>145.750000</td>\n",
       "      <td>7.250</td>\n",
       "    </tr>\n",
       "    <tr>\n",
       "      <th>5</th>\n",
       "      <td>0.0</td>\n",
       "      <td>76</td>\n",
       "      <td>24.262293</td>\n",
       "      <td>74.181818</td>\n",
       "      <td>118.100000</td>\n",
       "      <td>52.950000</td>\n",
       "      <td>20.545455</td>\n",
       "      <td>35.266667</td>\n",
       "      <td>96.818182</td>\n",
       "      <td>1840.0</td>\n",
       "      <td>98.333333</td>\n",
       "      <td>7.310</td>\n",
       "    </tr>\n",
       "  </tbody>\n",
       "</table>\n",
       "</div>"
      ],
      "text/plain": [
       "   outcome  age        BMI  heart_rate  Systolic_blood_pressure  \\\n",
       "0      0.0   72  37.588179   68.837838               155.866667   \n",
       "2      0.0   83  26.572634   72.318182               135.333333   \n",
       "3      0.0   43  83.264629   94.500000               126.400000   \n",
       "4      0.0   75  31.824842   67.920000               156.560000   \n",
       "5      0.0   76  24.262293   74.181818               118.100000   \n",
       "\n",
       "   Diastolic_blood_pressure  Respiratory_rate  temperature      SP_O2  \\\n",
       "0                 68.333333         16.621622    36.714286  98.394737   \n",
       "2                 61.375000         23.640000    36.453704  95.291667   \n",
       "3                 73.200000         21.857143    36.287037  93.846154   \n",
       "4                 58.120000         21.360000    36.761905  99.280000   \n",
       "5                 52.950000         20.545455    35.266667  96.818182   \n",
       "\n",
       "   Urine_output     glucose     PH  \n",
       "0        2155.0  114.636364  7.230  \n",
       "2        2425.0  149.000000  7.268  \n",
       "3        8760.0  128.250000  7.370  \n",
       "4        4455.0  145.750000  7.250  \n",
       "5        1840.0   98.333333  7.310  "
      ]
     },
     "execution_count": 8,
     "metadata": {},
     "output_type": "execute_result"
    }
   ],
   "source": [
    "df.head()"
   ]
  },
  {
   "cell_type": "code",
   "execution_count": 9,
   "id": "8cab43c4",
   "metadata": {},
   "outputs": [],
   "source": [
    "# preprocessing, split test and dataset, split response variable\n",
    "X=df.drop(labels='outcome',axis=1)\n",
    "# Response variable\n",
    "y=df.loc[:,'outcome']"
   ]
  },
  {
   "cell_type": "code",
   "execution_count": 10,
   "id": "433ca56e",
   "metadata": {},
   "outputs": [
    {
     "name": "stdout",
     "output_type": "stream",
     "text": [
      "OUR DATASET COUNT        : Counter({0.0: 608, 1.0: 101})\n",
      "OVER SAMPLING DATA COUNT : Counter({0.0: 608, 1.0: 608})\n"
     ]
    }
   ],
   "source": [
    "import imblearn\n",
    "from imblearn.over_sampling import RandomOverSampler\n",
    "from collections import Counter\n",
    "\n",
    "ros=RandomOverSampler(random_state=42)\n",
    "x_ros,y_ros=ros.fit_resample(X,y)\n",
    "print('OUR DATASET COUNT        :',Counter(y))\n",
    "print('OVER SAMPLING DATA COUNT :',Counter(y_ros))"
   ]
  },
  {
   "cell_type": "code",
   "execution_count": 27,
   "id": "37709b3f",
   "metadata": {},
   "outputs": [
    {
     "name": "stdout",
     "output_type": "stream",
     "text": [
      "Number of training dataset: 1180\n",
      "Number of test dataset    : 36\n",
      "Total number of dataset   : 1216\n"
     ]
    }
   ],
   "source": [
    "from sklearn.model_selection import train_test_split\n",
    "X_train,X_test,y_train,y_test=train_test_split(x_ros,y_ros,test_size=36,random_state=130)\n",
    "print('Number of training dataset:',len(X_train))\n",
    "print('Number of test dataset    :',len(X_test))\n",
    "print('Total number of dataset   :',len(X_train)+len(X_test))"
   ]
  },
  {
   "cell_type": "code",
   "execution_count": 28,
   "id": "8e22d271",
   "metadata": {},
   "outputs": [],
   "source": [
    "# Implementing SVC logo\n",
    "from sklearn.svm import SVC\n",
    "from sklearn.metrics import confusion_matrix,classification_report,accuracy_score,plot_confusion_matrix"
   ]
  },
  {
   "cell_type": "code",
   "execution_count": 29,
   "id": "ad68f1bd",
   "metadata": {},
   "outputs": [],
   "source": [
    "# Training\n",
    "svc=SVC()\n",
    "svc.fit(X_train,y_train)\n",
    "predicted=svc.predict(X_test)"
   ]
  },
  {
   "cell_type": "code",
   "execution_count": 30,
   "id": "5fb1b2bc",
   "metadata": {},
   "outputs": [
    {
     "name": "stdout",
     "output_type": "stream",
     "text": [
      "Accuracy of Support Vector Classifier 91.66666666666666\n"
     ]
    }
   ],
   "source": [
    "# Finding Accuracy\n",
    "accuracy=accuracy_score(y_test,predicted)\n",
    "print('Accuracy of Support Vector Classifier',accuracy*100)"
   ]
  },
  {
   "cell_type": "code",
   "execution_count": 31,
   "id": "92de8c71",
   "metadata": {},
   "outputs": [
    {
     "name": "stdout",
     "output_type": "stream",
     "text": [
      "Classification report\n",
      "\n",
      "               precision    recall  f1-score   support\n",
      "\n",
      "         0.0       0.94      0.88      0.91        17\n",
      "         1.0       0.90      0.95      0.92        19\n",
      "\n",
      "    accuracy                           0.92        36\n",
      "   macro avg       0.92      0.91      0.92        36\n",
      "weighted avg       0.92      0.92      0.92        36\n",
      "\n"
     ]
    }
   ],
   "source": [
    "# Finding Classification Report\n",
    "cr=classification_report(y_test,predicted)\n",
    "print('Classification report\\n\\n',cr)"
   ]
  },
  {
   "cell_type": "code",
   "execution_count": 32,
   "id": "50563c5e",
   "metadata": {},
   "outputs": [
    {
     "name": "stdout",
     "output_type": "stream",
     "text": [
      "Confusion matrix\n",
      "\n",
      " [[15  2]\n",
      " [ 1 18]]\n"
     ]
    }
   ],
   "source": [
    "# Finding Confusion Matrix\n",
    "cm=confusion_matrix(y_test,predicted)\n",
    "print('Confusion matrix\\n\\n',cm)"
   ]
  },
  {
   "cell_type": "code",
   "execution_count": 33,
   "id": "ad67c864",
   "metadata": {},
   "outputs": [
    {
     "data": {
      "image/png": "[encoded data removed]",
      "text/plain": [
       "<Figure size 720x720 with 2 Axes>"
      ]
     },
     "metadata": {
      "needs_background": "light"
     },
     "output_type": "display_data"
    }
   ],
   "source": [
    "import matplotlib.pyplot as plt\n",
    "fig,ax=plt.subplots(figsize=(10,10))\n",
    "plot_confusion_matrix(svc,X_test,y_test,ax=ax)\n",
    "plt.title('Confusion matrix of SVC')\n",
    "plt.show()"
   ]
  },
  {
   "cell_type": "code",
   "execution_count": 34,
   "id": "444c278d",
   "metadata": {},
   "outputs": [
    {
     "data": {
      "image/png": "[encoded data removed]",
      "text/plain": [
       "<Figure size 1440x360 with 1 Axes>"
      ]
     },
     "metadata": {
      "needs_background": "light"
     },
     "output_type": "display_data"
    }
   ],
   "source": [
    "df2=pd.DataFrame()\n",
    "df2['y_test']=y_test\n",
    "df2['predicted']=predicted\n",
    "df2.reset_index(inplace=True)\n",
    "plt.figure(figsize=(20,5))\n",
    "plt.plot(df2['predicted'][:100],marker='x',linestyle='dashed',color='green')\n",
    "plt.plot(df2['y_test'][:100],marker='o',linestyle='dashed',color='red')\n",
    "plt.show()"
   ]
  }
 ],
 "metadata": {
  "kernelspec": {
   "display_name": "Python 3 (ipykernel)",
   "language": "python",
   "name": "python3"
  },
  "language_info": {
   "codemirror_mode": {
    "name": "ipython",
    "version": 3
   },
   "file_extension": ".py",
   "mimetype": "text/x-python",
   "name": "python",
   "nbconvert_exporter": "python",
   "pygments_lexer": "ipython3",
   "version": "3.7.13"
  }
 },
 "nbformat": 4,
 "nbformat_minor": 5
}
